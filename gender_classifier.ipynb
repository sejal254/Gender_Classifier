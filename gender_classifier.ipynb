{
 "cells": [
  {
   "cell_type": "code",
   "execution_count": 1,
   "metadata": {},
   "outputs": [],
   "source": [
    "#First, we need to declare the data and labels we are giving the classifier\n",
    "\n",
    "X = [[181, 80, 44], [177, 70, 43], [160, 60, 38], \n",
    "     [154, 54, 37],[166, 65, 40], [190, 90, 47], [175, 64, 39],\n",
    "     [177, 70, 40], [159, 55, 37], [171, 75, 42], \n",
    "     [181, 85, 43], [168, 75, 41], [168, 77, 41]]\n",
    "\n",
    "Y = [\"male\", \"male\", \"female\", \"female\", \"male\", \"male\", \n",
    "    \"female\",\"female\",\"female\", \"male\", \"male\",\n",
    "     \"female\", \"female\"]"
   ]
  },
  {
   "cell_type": "code",
   "execution_count": 2,
   "metadata": {},
   "outputs": [],
   "source": [
    "#We can now declare the test_data, or the data to be classified.\n",
    "test_data = [[190, 70, 43],[154, 75, 38],[181,65,40]]\n",
    "test_labels = [\"male\",\"female\",\"male\"]"
   ]
  },
  {
   "cell_type": "code",
   "execution_count": 3,
   "metadata": {},
   "outputs": [
    {
     "data": {
      "text/plain": [
       "array(['male', 'male', 'female'], dtype='<U6')"
      ]
     },
     "execution_count": 3,
     "metadata": {},
     "output_type": "execute_result"
    }
   ],
   "source": [
    "from sklearn import tree\n",
    "\n",
    "#DecisionTreeClassifier\n",
    "dtc_clf = tree.DecisionTreeClassifier()\n",
    "dtc_clf = dtc_clf.fit(X,Y)\n",
    "dtc_prediction = dtc_clf.predict(test_data)\n",
    "dtc_prediction"
   ]
  },
  {
   "cell_type": "code",
   "execution_count": 4,
   "metadata": {},
   "outputs": [],
   "source": [
    "#Random Forest Classifier\n",
    "#Random Forest classifier is an ensemble algorithm.\n",
    "#Random forest classifier creates a set of decision trees from a randomly selected subset of the training set."
   ]
  },
  {
   "cell_type": "code",
   "execution_count": 5,
   "metadata": {},
   "outputs": [],
   "source": [
    "from sklearn.ensemble import RandomForestClassifier"
   ]
  },
  {
   "cell_type": "code",
   "execution_count": 6,
   "metadata": {},
   "outputs": [
    {
     "data": {
      "text/plain": [
       "array(['male', 'female', 'male'], dtype='<U6')"
      ]
     },
     "execution_count": 6,
     "metadata": {},
     "output_type": "execute_result"
    }
   ],
   "source": [
    "#RandomForestClassifier\n",
    "rfc_clf = RandomForestClassifier()\n",
    "rfc_clf.fit(X,Y)\n",
    "rfc_prediction = rfc_clf.predict(test_data)\n",
    "rfc_prediction"
   ]
  },
  {
   "cell_type": "code",
   "execution_count": 7,
   "metadata": {},
   "outputs": [],
   "source": [
    "from sklearn.linear_model import LogisticRegression"
   ]
  },
  {
   "cell_type": "code",
   "execution_count": 8,
   "metadata": {},
   "outputs": [
    {
     "data": {
      "text/plain": [
       "array(['male', 'female', 'female'], dtype='<U6')"
      ]
     },
     "execution_count": 8,
     "metadata": {},
     "output_type": "execute_result"
    }
   ],
   "source": [
    "#LogisticRegression\n",
    "l_clf = LogisticRegression()\n",
    "l_clf.fit(X,Y)\n",
    "l_prediction = l_clf.predict(test_data)\n",
    "l_prediction"
   ]
  },
  {
   "cell_type": "code",
   "execution_count": 9,
   "metadata": {},
   "outputs": [],
   "source": [
    "from sklearn.svm import SVC"
   ]
  },
  {
   "cell_type": "code",
   "execution_count": 10,
   "metadata": {},
   "outputs": [
    {
     "data": {
      "text/plain": [
       "array(['female', 'female', 'female'], dtype='<U6')"
      ]
     },
     "execution_count": 10,
     "metadata": {},
     "output_type": "execute_result"
    }
   ],
   "source": [
    "#Support Vector Classifier\n",
    "s_clf = SVC()\n",
    "s_clf.fit(X,Y)\n",
    "s_prediction = s_clf.predict(test_data)\n",
    "s_prediction"
   ]
  },
  {
   "cell_type": "code",
   "execution_count": 11,
   "metadata": {},
   "outputs": [],
   "source": [
    "import numpy as np\n",
    "from sklearn.metrics import accuracy_score"
   ]
  },
  {
   "cell_type": "code",
   "execution_count": 12,
   "metadata": {},
   "outputs": [],
   "source": [
    "#The accuracy can be calculated as\n",
    "#accuracy scores\n",
    "dtc_tree_acc = accuracy_score(dtc_prediction,test_labels)\n",
    "rfc_acc = accuracy_score(rfc_prediction,test_labels)\n",
    "l_acc = accuracy_score(l_prediction,test_labels)\n",
    "s_acc = accuracy_score(s_prediction,test_labels)"
   ]
  },
  {
   "cell_type": "code",
   "execution_count": 13,
   "metadata": {},
   "outputs": [
    {
     "name": "stdout",
     "output_type": "stream",
     "text": [
      "Random Forestis the best classifier for this problem\n"
     ]
    }
   ],
   "source": [
    "classifiers = [\"Decision Tree\", \"Random Forest\", \"Logistic Regression\" , \"SVC\"]\n",
    "accuracy = np.array([dtc_tree_acc, rfc_acc, l_acc, s_acc])\n",
    "max_acc = np.argmax(accuracy)\n",
    "print(classifiers[max_acc] + \"is the best classifier for this problem\")"
   ]
  }
 ],
 "metadata": {
  "kernelspec": {
   "display_name": "Python 3",
   "language": "python",
   "name": "python3"
  },
  "language_info": {
   "codemirror_mode": {
    "name": "ipython",
    "version": 3
   },
   "file_extension": ".py",
   "mimetype": "text/x-python",
   "name": "python",
   "nbconvert_exporter": "python",
   "pygments_lexer": "ipython3",
   "version": "3.7.6"
  }
 },
 "nbformat": 4,
 "nbformat_minor": 4
}
